{
 "cells": [
  {
   "cell_type": "markdown",
   "id": "1854895c-7ced-412e-abb2-ea486d4c63a5",
   "metadata": {},
   "source": [
    "### Homework:06\n",
    "#### Name: Muhammad Talha Salani\n",
    "#### ID: ms07725"
   ]
  },
  {
   "cell_type": "markdown",
   "id": "dc7d862a-20bb-440d-9274-3aff06e381d9",
   "metadata": {},
   "source": [
    "Purpose:\n",
    "Demonstrate understating of Regression technique for correlation and prediction\n",
    "Points: 100\n",
    "\n",
    "Deliverables: Submit ipynb code file with your answers\n",
    "\n",
    "• Review IDMA Book Chapter 12 Predictive Analytics\n",
    "\n",
    "• Use the dataset HousePricingData.csv\n",
    "\n",
    "• Perform analysis on the following questions. Make sure to include interpretation of each\n",
    "result including coefficients, p-values, r-square and other necessary information to\n",
    "support your answer\n",
    "\n",
    "1. Create a regression model between GrLivArea and SalePrice (response\n",
    "variable). Show the scatter plot with regression line between them. Discuss the R-\n",
    "squared value.\n",
    "2. Create a regression model between TotalBsmtSF and LotArea (response\n",
    "variable). Show the scatter plot with regression line between them. Discuss the R-\n",
    "squared value.\n",
    "3. Calculate Correlation for questions (1) and (2) and explain the correlation value to\n",
    "support your answer for questions (1) and (2).\n",
    "4. Create a regression model to predict SalePrice using all other inputs. Discuss the\n",
    "effectiveness of the model using R-squared value. Report 3 most significant inputs\n",
    "and 3 least significant inputs (based on p-value) and interpret the results. Create one\n",
    "new input of your choice of values and show the prediction of SalePrice using the\n",
    "same model.\n",
    "5. Create a regression model to predict LotArea using all other inputs. Discuss the\n",
    "effectiveness of the model using R-squared value. Report 3 most significant inputs\n",
    "and 3 least significant inputs (based on p-value) and interpret the results. Create one\n",
    "new input of your choice of values and show the prediction of LotArea using the\n",
    "same model.\n",
    "6. From Question 4, drop/remove all the columns which are not signification (p-value >0.05) and create a new model to predict SalePrice. Discuss the performance of the model using few inputs as compared to using all inputs in (Question 4). Which model do you prefer and why?\n",
    "    a. The idea is to create a simple generalized model with fewer inputs which are important for prediction and getting the similar performance. For this concept, please research and study “Regularization in Regression”\n",
    "7. Using the model in Question 6, create 3 new data records and predict their\n",
    "SalePrice. Discuss if the predicted output looks good and make sense.\n"
   ]
  },
  {
   "cell_type": "code",
   "execution_count": 1216,
   "id": "ca92de08-96f1-41d2-9be4-5d5ef3146780",
   "metadata": {},
   "outputs": [],
   "source": [
    "import pandas as pd\n",
    "import numpy as np\n",
    "import statsmodels.api as sm\n",
    "import pickle"
   ]
  },
  {
   "cell_type": "code",
   "execution_count": 1217,
   "id": "ad6323e0-1200-4a26-bb79-5877a4ec9996",
   "metadata": {},
   "outputs": [],
   "source": [
    "df = pd.read_csv('HousePricingData.csv')"
   ]
  },
  {
   "cell_type": "code",
   "execution_count": 1218,
   "id": "508b6416-229c-461d-8f99-1a786da1904b",
   "metadata": {},
   "outputs": [
    {
     "data": {
      "text/html": [
       "<div>\n",
       "<style scoped>\n",
       "    .dataframe tbody tr th:only-of-type {\n",
       "        vertical-align: middle;\n",
       "    }\n",
       "\n",
       "    .dataframe tbody tr th {\n",
       "        vertical-align: top;\n",
       "    }\n",
       "\n",
       "    .dataframe thead th {\n",
       "        text-align: right;\n",
       "    }\n",
       "</style>\n",
       "<table border=\"1\" class=\"dataframe\">\n",
       "  <thead>\n",
       "    <tr style=\"text-align: right;\">\n",
       "      <th></th>\n",
       "      <th>Id</th>\n",
       "      <th>LotArea</th>\n",
       "      <th>OverallQual</th>\n",
       "      <th>OverallCond</th>\n",
       "      <th>YearBuilt</th>\n",
       "      <th>TotalBsmtSF</th>\n",
       "      <th>1stFlrSF</th>\n",
       "      <th>2ndFlrSF</th>\n",
       "      <th>GrLivArea</th>\n",
       "      <th>BsmtFullBath</th>\n",
       "      <th>BsmtHalfBath</th>\n",
       "      <th>FullBath</th>\n",
       "      <th>HalfBath</th>\n",
       "      <th>BedroomAbvGr</th>\n",
       "      <th>KitchenAbvGr</th>\n",
       "      <th>Fireplaces</th>\n",
       "      <th>GarageCars</th>\n",
       "      <th>PavedDrive</th>\n",
       "      <th>SaleCondition</th>\n",
       "      <th>SalePrice</th>\n",
       "    </tr>\n",
       "  </thead>\n",
       "  <tbody>\n",
       "    <tr>\n",
       "      <th>0</th>\n",
       "      <td>1</td>\n",
       "      <td>8450</td>\n",
       "      <td>7</td>\n",
       "      <td>5</td>\n",
       "      <td>2003</td>\n",
       "      <td>856</td>\n",
       "      <td>856</td>\n",
       "      <td>854</td>\n",
       "      <td>1710</td>\n",
       "      <td>1</td>\n",
       "      <td>0</td>\n",
       "      <td>2</td>\n",
       "      <td>1</td>\n",
       "      <td>3</td>\n",
       "      <td>1</td>\n",
       "      <td>0</td>\n",
       "      <td>2</td>\n",
       "      <td>Y</td>\n",
       "      <td>Normal</td>\n",
       "      <td>208500</td>\n",
       "    </tr>\n",
       "    <tr>\n",
       "      <th>1</th>\n",
       "      <td>2</td>\n",
       "      <td>9600</td>\n",
       "      <td>6</td>\n",
       "      <td>8</td>\n",
       "      <td>1976</td>\n",
       "      <td>1262</td>\n",
       "      <td>1262</td>\n",
       "      <td>0</td>\n",
       "      <td>1262</td>\n",
       "      <td>0</td>\n",
       "      <td>1</td>\n",
       "      <td>2</td>\n",
       "      <td>0</td>\n",
       "      <td>3</td>\n",
       "      <td>1</td>\n",
       "      <td>1</td>\n",
       "      <td>2</td>\n",
       "      <td>Y</td>\n",
       "      <td>Normal</td>\n",
       "      <td>181500</td>\n",
       "    </tr>\n",
       "    <tr>\n",
       "      <th>2</th>\n",
       "      <td>3</td>\n",
       "      <td>11250</td>\n",
       "      <td>7</td>\n",
       "      <td>5</td>\n",
       "      <td>2001</td>\n",
       "      <td>920</td>\n",
       "      <td>920</td>\n",
       "      <td>866</td>\n",
       "      <td>1786</td>\n",
       "      <td>1</td>\n",
       "      <td>0</td>\n",
       "      <td>2</td>\n",
       "      <td>1</td>\n",
       "      <td>3</td>\n",
       "      <td>1</td>\n",
       "      <td>1</td>\n",
       "      <td>2</td>\n",
       "      <td>Y</td>\n",
       "      <td>Normal</td>\n",
       "      <td>223500</td>\n",
       "    </tr>\n",
       "    <tr>\n",
       "      <th>3</th>\n",
       "      <td>4</td>\n",
       "      <td>9550</td>\n",
       "      <td>7</td>\n",
       "      <td>5</td>\n",
       "      <td>1915</td>\n",
       "      <td>756</td>\n",
       "      <td>961</td>\n",
       "      <td>756</td>\n",
       "      <td>1717</td>\n",
       "      <td>1</td>\n",
       "      <td>0</td>\n",
       "      <td>1</td>\n",
       "      <td>0</td>\n",
       "      <td>3</td>\n",
       "      <td>1</td>\n",
       "      <td>1</td>\n",
       "      <td>3</td>\n",
       "      <td>Y</td>\n",
       "      <td>Abnorml</td>\n",
       "      <td>140000</td>\n",
       "    </tr>\n",
       "    <tr>\n",
       "      <th>4</th>\n",
       "      <td>5</td>\n",
       "      <td>14260</td>\n",
       "      <td>8</td>\n",
       "      <td>5</td>\n",
       "      <td>2000</td>\n",
       "      <td>1145</td>\n",
       "      <td>1145</td>\n",
       "      <td>1053</td>\n",
       "      <td>2198</td>\n",
       "      <td>1</td>\n",
       "      <td>0</td>\n",
       "      <td>2</td>\n",
       "      <td>1</td>\n",
       "      <td>4</td>\n",
       "      <td>1</td>\n",
       "      <td>1</td>\n",
       "      <td>3</td>\n",
       "      <td>Y</td>\n",
       "      <td>Normal</td>\n",
       "      <td>250000</td>\n",
       "    </tr>\n",
       "  </tbody>\n",
       "</table>\n",
       "</div>"
      ],
      "text/plain": [
       "   Id  LotArea  OverallQual  OverallCond  YearBuilt  TotalBsmtSF  1stFlrSF  \\\n",
       "0   1     8450            7            5       2003          856       856   \n",
       "1   2     9600            6            8       1976         1262      1262   \n",
       "2   3    11250            7            5       2001          920       920   \n",
       "3   4     9550            7            5       1915          756       961   \n",
       "4   5    14260            8            5       2000         1145      1145   \n",
       "\n",
       "   2ndFlrSF  GrLivArea  BsmtFullBath  BsmtHalfBath  FullBath  HalfBath  \\\n",
       "0       854       1710             1             0         2         1   \n",
       "1         0       1262             0             1         2         0   \n",
       "2       866       1786             1             0         2         1   \n",
       "3       756       1717             1             0         1         0   \n",
       "4      1053       2198             1             0         2         1   \n",
       "\n",
       "   BedroomAbvGr  KitchenAbvGr  Fireplaces  GarageCars PavedDrive  \\\n",
       "0             3             1           0           2          Y   \n",
       "1             3             1           1           2          Y   \n",
       "2             3             1           1           2          Y   \n",
       "3             3             1           1           3          Y   \n",
       "4             4             1           1           3          Y   \n",
       "\n",
       "  SaleCondition  SalePrice  \n",
       "0        Normal     208500  \n",
       "1        Normal     181500  \n",
       "2        Normal     223500  \n",
       "3       Abnorml     140000  \n",
       "4        Normal     250000  "
      ]
     },
     "execution_count": 1218,
     "metadata": {},
     "output_type": "execute_result"
    }
   ],
   "source": [
    "df.head()"
   ]
  },
  {
   "cell_type": "markdown",
   "id": "bf5b7df6-47ce-4edf-af13-876c720f2d2c",
   "metadata": {},
   "source": [
    "#### Q1: Create a regression model between GrLivArea and SalePrice (response variable). Show the scatter plot with regression line between them. Discuss the R- squared value."
   ]
  },
  {
   "cell_type": "code",
   "execution_count": 1220,
   "id": "c8f8a760-a71a-4c01-9579-616e4ed5e512",
   "metadata": {},
   "outputs": [],
   "source": [
    "X = df[['GrLivArea']]\n",
    "y = df['SalePrice']  \n",
    "\n",
    "model = LinearRegression()\n",
    "model.fit(X, y)\n",
    "\n",
    "y_pred = model.predict(X)"
   ]
  },
  {
   "cell_type": "code",
   "execution_count": 1221,
   "id": "5920b427-375c-4845-889b-2d1d03b633c2",
   "metadata": {},
   "outputs": [
    {
     "data": {
      "image/png": "[encoded data removed]",
      "text/plain": [
       "<Figure size 640x480 with 1 Axes>"
      ]
     },
     "metadata": {},
     "output_type": "display_data"
    }
   ],
   "source": [
    "plt.scatter(X, y, color='blue', label='Actual Data')\n",
    "plt.plot(X, y_pred, color='red', label='Regression Line')\n",
    "plt.xlabel('GrLivArea (Above Ground Living Area)')\n",
    "plt.ylabel('SalePrice')\n",
    "plt.title('Linear Regression between GrLivArea and SalePrice')\n",
    "plt.legend()\n",
    "plt.show()\n"
   ]
  },
  {
   "cell_type": "code",
   "execution_count": 1222,
   "id": "1ed8cb00-3a2d-4d91-a4e2-dbba9027351a",
   "metadata": {},
   "outputs": [
    {
     "name": "stdout",
     "output_type": "stream",
     "text": [
      "R-squared value: 0.5021486502718042\n"
     ]
    }
   ],
   "source": [
    "r_squared = r2_score(y, y_pred)\n",
    "print(f\"R-squared value: {r_squared}\")\n"
   ]
  },
  {
   "cell_type": "markdown",
   "id": "b3f7fa6a-4254-4e41-ae15-36de7f7d9cb4",
   "metadata": {},
   "source": [
    "Discussion: In the present linear regression model, `GrLivArea` can account for about **50.2%** of the variability in `SalePrice`, according to the R-squared value of **0.5021**. This suggests a moderate correlation between the two variables, indicating that although `GrLivArea` has a significant influence on home prices, the majority of the fluctuation cannot be explained by it alone. The variations in `SalePrice` are probably caused by other elements like year built, general quality, and other amenities. Adding more pertinent features, such as `OverallQual`, `TotalBsmtSF`, or `GarageCars`, could enhance the model's performance by increasing the R-squared value and helping to explain more of the variation in home prices. This would result in a prediction model that is more accurate."
   ]
  },
  {
   "cell_type": "markdown",
   "id": "f6c091fa-2eea-4ff0-afd0-5bc2d9b38f5d",
   "metadata": {},
   "source": [
    "#### Q2: Create a regression model between TotalBsmtSF and LotArea (response variable). Show the scatter plot with regression line between them. Discuss the R- squared value."
   ]
  },
  {
   "cell_type": "code",
   "execution_count": 1225,
   "id": "3a721325-6d0e-4427-8f24-3f3eb6b676e4",
   "metadata": {},
   "outputs": [],
   "source": [
    "X = df[['TotalBsmtSF']]  \n",
    "y = df['LotArea']        \n",
    "\n",
    "model = LinearRegression()\n",
    "model.fit(X, y)\n",
    "\n",
    "y_pred = model.predict(X)\n"
   ]
  },
  {
   "cell_type": "code",
   "execution_count": 1226,
   "id": "b95547ac-484f-4c35-b581-e678f5bcd987",
   "metadata": {},
   "outputs": [
    {
     "data": {
      "image/png": "[encoded data removed]",
      "text/plain": [
       "<Figure size 640x480 with 1 Axes>"
      ]
     },
     "metadata": {},
     "output_type": "display_data"
    }
   ],
   "source": [
    "plt.scatter(X, y, color='blue', label='Actual Data')\n",
    "plt.plot(X, y_pred, color='red', label='Regression Line')\n",
    "plt.xlabel('TotalBsmtSF (Total Basement Square Feet)')\n",
    "plt.ylabel('LotArea')\n",
    "plt.title('Linear Regression between TotalBsmtSF and LotArea')\n",
    "plt.legend()\n",
    "plt.show()\n"
   ]
  },
  {
   "cell_type": "code",
   "execution_count": 1227,
   "id": "caddae83-7047-42e9-89ee-758d95f1b4a3",
   "metadata": {},
   "outputs": [
    {
     "name": "stdout",
     "output_type": "stream",
     "text": [
      "R-squared value: 0.06803392407665232\n"
     ]
    }
   ],
   "source": [
    "r_squared = r2_score(y, y_pred)\n",
    "print(f\"R-squared value: {r_squared}\")\n"
   ]
  },
  {
   "cell_type": "markdown",
   "id": "c8f0696b-d2ce-400f-8341-ad9227f48235",
   "metadata": {},
   "source": [
    "Discussion: Only roughly **6.8%** of the variability in `LotArea` can be explained by `TotalBsmtSF` in the present linear regression model, according to the R-squared value of **0.0680**. ~TotalBsmtSF` (total basement square footage) does not significantly contribute to predicting the `LotArea` in this model, indicating a **very poor relationship** between the two variables. According to this investigation, the size of the lot area is almost unaffected by the quantity of basement space.\n",
    "\n",
    "The low R-squared value suggests that the variation in `LotArea` is probably caused by variables other than the total basement area. \n",
    "This weak fit suggests that LotArea might be influenced by a different set of features not included in this model, such as neighborhood, property zoning, or other land-specific characteristics."
   ]
  },
  {
   "cell_type": "markdown",
   "id": "fbf6541b-e229-475e-8ad5-7f4c51c4bf5e",
   "metadata": {},
   "source": [
    "#### Q3: Calculate Correlation for questions (1) and (2) and explain the correlation value to support your answer for questions (1) and (2)."
   ]
  },
  {
   "cell_type": "code",
   "execution_count": 1230,
   "id": "11c996de-44aa-44e4-9b84-786d41eedeb8",
   "metadata": {},
   "outputs": [
    {
     "name": "stdout",
     "output_type": "stream",
     "text": [
      "Correlation between GrLivArea and SalePrice: 0.7086244776126521\n"
     ]
    }
   ],
   "source": [
    "correlation_grlivarea_saleprice = df['GrLivArea'].corr(df['SalePrice'])\n",
    "print(f\"Correlation between GrLivArea and SalePrice: {correlation_grlivarea_saleprice}\")\n"
   ]
  },
  {
   "cell_type": "code",
   "execution_count": 1231,
   "id": "bb1a4335-2693-44fb-b18b-cbb83a49976c",
   "metadata": {},
   "outputs": [
    {
     "name": "stdout",
     "output_type": "stream",
     "text": [
      "Correlation between TotalBsmtSF and LotArea: 0.26083313454515755\n"
     ]
    }
   ],
   "source": [
    "correlation_totalbsmtsf_lotarea = df['TotalBsmtSF'].corr(df['LotArea'])\n",
    "print(f\"Correlation between TotalBsmtSF and LotArea: {correlation_totalbsmtsf_lotarea}\")\n"
   ]
  },
  {
   "cell_type": "markdown",
   "id": "dab9d2e6-50f0-4ec7-8974-25111d37a0c0",
   "metadata": {},
   "source": [
    "#### 1. `GrLivArea` and `SalePrice` have a 0.7086 correlation.\n",
    "The above-ground living area `GrLivArea` and home prices `SalePrice` have a **strong positive relationship**, as indicated by the correlation value of **0.7086**. This implies that the price of a home tends to rise in tandem with the amount of the living space. The fact that `GrLivArea` accounts for a moderate percentage of the variability (50.2%) in `SalePrice` lends credence to the previous finding that it plays a significant influence in predicting house prices. Despite not being the sole cause, it has a significant role, which is consistent with the high positive correlation.\n",
    "\n",
    "#### 2. `TotalBsmtSF` and `LotArea` have a 0.2608 correlation.\n",
    "A **weak positive relationship** between the lot area `LotArea` and the total basement square footage `TotalBsmtSF` is shown by the correlation value of **0.2608**. As seen by the extremely low R-squared value (6.8%), this supports the previous conclusion that `TotalBsmtSF` has very little effect on forecasting `LotArea`. The modest association suggests that other factors are more crucial in determining the size of the lot area and that basement size and lot size do not significantly influence each other.\n",
    "\n",
    "Overall, the conclusion that the living area is a significant predictor of home values is supported by the substantial correlation between GrLivArea and SalePrice, whereas the weakness of the correlation between TotalBsmtSF and LotArea supports the conclusion that the size of the basement has little impact on the size of the lot."
   ]
  },
  {
   "cell_type": "markdown",
   "id": "8b2403f4-c224-469b-a503-241340ed3eeb",
   "metadata": {},
   "source": [
    "#### Q4: Create a regression model to predict SalePrice using all other inputs. Discuss the effectiveness of the model using R-squared value. Report 3 most significant inputs and 3 least significant inputs (based on p-value) and interpret the results. Create one new input of your choice of values and show the prediction of SalePrice using the same model."
   ]
  },
  {
   "cell_type": "code",
   "execution_count": 1234,
   "id": "e974348d-8b63-4a6c-bf02-47211ace7a2e",
   "metadata": {},
   "outputs": [],
   "source": [
    "df_dummies = pd.get_dummies(df, columns=['PavedDrive', 'SaleCondition'], dtype=int)\n",
    "\n",
    "features = df_dummies.drop(columns=['SalePrice'], axis=1)  # X\n",
    "target = df_dummies['SalePrice']  # Y"
   ]
  },
  {
   "cell_type": "code",
   "execution_count": 1235,
   "id": "0c6e23e2-baa1-407f-9c91-56093bc82104",
   "metadata": {},
   "outputs": [],
   "source": [
    "features = sm.add_constant(features)\n",
    "model = sm.OLS(target, features).fit()\n"
   ]
  },
  {
   "cell_type": "code",
   "execution_count": 1236,
   "id": "d3991cd1-b0b4-4d6b-91d9-28874c90929a",
   "metadata": {},
   "outputs": [
    {
     "name": "stdout",
     "output_type": "stream",
     "text": [
      "OverallQual              1.405151e-43\n",
      "GarageCars               5.038989e-13\n",
      "SaleCondition_Abnorml    1.703688e-12\n",
      "SaleCondition_Family     8.819353e-12\n",
      "PavedDrive_P             1.083495e-11\n",
      "BsmtFullBath             1.413240e-11\n",
      "const                    2.046991e-11\n",
      "PavedDrive_N             3.863862e-11\n",
      "SaleCondition_Normal     3.969781e-11\n",
      "PavedDrive_Y             8.820008e-11\n",
      "OverallCond              3.430235e-10\n",
      "YearBuilt                1.532824e-09\n",
      "SaleCondition_Alloca     2.076618e-08\n",
      "SaleCondition_Partial    9.394595e-06\n",
      "KitchenAbvGr             1.113795e-05\n",
      "LotArea                  1.658113e-05\n",
      "SaleCondition_AdjLand    2.640019e-04\n",
      "BedroomAbvGr             3.932785e-04\n",
      "TotalBsmtSF              2.012988e-03\n",
      "Fireplaces               5.144595e-03\n",
      "1stFlrSF                 6.848161e-02\n",
      "GrLivArea                1.318543e-01\n",
      "2ndFlrSF                 1.840989e-01\n",
      "BsmtHalfBath             2.154382e-01\n",
      "Id                       3.612123e-01\n",
      "FullBath                 3.993149e-01\n",
      "HalfBath                 9.704286e-01\n",
      "dtype: float64\n",
      "                            OLS Regression Results                            \n",
      "==============================================================================\n",
      "Dep. Variable:              SalePrice   R-squared:                       0.803\n",
      "Model:                            OLS   Adj. R-squared:                  0.800\n",
      "Method:                 Least Squares   F-statistic:                     244.4\n",
      "Date:                Mon, 21 Oct 2024   Prob (F-statistic):               0.00\n",
      "Time:                        20:42:34   Log-Likelihood:                -17356.\n",
      "No. Observations:                1460   AIC:                         3.476e+04\n",
      "Df Residuals:                    1435   BIC:                         3.489e+04\n",
      "Df Model:                          24                                         \n",
      "Covariance Type:            nonrobust                                         \n",
      "=========================================================================================\n",
      "                            coef    std err          t      P>|t|      [0.025      0.975]\n",
      "-----------------------------------------------------------------------------------------\n",
      "const                 -4.932e+05    7.3e+04     -6.757      0.000   -6.36e+05    -3.5e+05\n",
      "Id                       -2.0287      2.221     -0.913      0.361      -6.386       2.328\n",
      "LotArea                   0.4400      0.102      4.321      0.000       0.240       0.640\n",
      "OverallQual            1.688e+04   1178.874     14.321      0.000    1.46e+04    1.92e+04\n",
      "OverallCond            6048.6553    956.697      6.322      0.000    4171.981    7925.329\n",
      "YearBuilt               341.1663     56.108      6.081      0.000     231.104     451.228\n",
      "TotalBsmtSF              12.8720      4.160      3.094      0.002       4.711      21.033\n",
      "1stFlrSF                 37.3353     20.478      1.823      0.068      -2.835      77.505\n",
      "2ndFlrSF                 26.8467     20.203      1.329      0.184     -12.783      66.476\n",
      "GrLivArea                29.8586     19.804      1.508      0.132      -8.990      68.707\n",
      "BsmtFullBath           1.386e+04   2034.781      6.812      0.000    9869.136    1.79e+04\n",
      "BsmtHalfBath           5021.8002   4052.136      1.239      0.215   -2926.945     1.3e+04\n",
      "FullBath               2382.7573   2826.197      0.843      0.399   -3161.164    7926.678\n",
      "HalfBath                -99.8349   2692.620     -0.037      0.970   -5381.728    5182.058\n",
      "BedroomAbvGr          -5271.5079   1483.700     -3.553      0.000   -8181.961   -2361.055\n",
      "KitchenAbvGr          -2.142e+04   4857.709     -4.409      0.000   -3.09e+04   -1.19e+04\n",
      "Fireplaces             4965.5762   1772.061      2.802      0.005    1489.468    8441.685\n",
      "GarageCars             1.264e+04   1733.268      7.292      0.000    9238.493     1.6e+04\n",
      "PavedDrive_N            -1.6e+05    2.4e+04     -6.661      0.000   -2.07e+05   -1.13e+05\n",
      "PavedDrive_P          -1.685e+05   2.46e+04     -6.851      0.000   -2.17e+05    -1.2e+05\n",
      "PavedDrive_Y          -1.647e+05   2.52e+04     -6.535      0.000   -2.14e+05   -1.15e+05\n",
      "SaleCondition_Abnorml -9.147e+04   1.28e+04     -7.120      0.000   -1.17e+05   -6.63e+04\n",
      "SaleCondition_AdjLand -7.151e+04   1.96e+04     -3.657      0.000    -1.1e+05   -3.32e+04\n",
      "SaleCondition_Alloca  -8.879e+04   1.58e+04     -5.637      0.000    -1.2e+05   -5.79e+04\n",
      "SaleCondition_Family  -9.671e+04   1.41e+04     -6.882      0.000   -1.24e+05   -6.91e+04\n",
      "SaleCondition_Normal  -8.453e+04   1.27e+04     -6.657      0.000   -1.09e+05   -5.96e+04\n",
      "SaleCondition_Partial -6.016e+04   1.35e+04     -4.447      0.000   -8.67e+04   -3.36e+04\n",
      "==============================================================================\n",
      "Omnibus:                      749.542   Durbin-Watson:                   1.954\n",
      "Prob(Omnibus):                  0.000   Jarque-Bera (JB):           138565.776\n",
      "Skew:                          -1.276   Prob(JB):                         0.00\n",
      "Kurtosis:                      50.658   Cond. No.                     1.34e+16\n",
      "==============================================================================\n",
      "\n",
      "Notes:\n",
      "[1] Standard Errors assume that the covariance matrix of the errors is correctly specified.\n",
      "[2] The smallest eigenvalue is 1.75e-21. This might indicate that there are\n",
      "strong multicollinearity problems or that the design matrix is singular.\n"
     ]
    }
   ],
   "source": [
    "p_values = model.pvalues\n",
    "sorted_p_values = p_values.sort_values()\n",
    "print(sorted_p_values)\n",
    "\n",
    "print(model.summary())"
   ]
  },
  {
   "cell_type": "markdown",
   "id": "d5a31478-a3ca-4e8d-ba06-6a94f318bb5d",
   "metadata": {},
   "source": [
    "Discussion:\n",
    "\n",
    "-Most significant inputs are OverallQual, GarageCars, and SaleCondition_Abnorml as they have the smallest pvalues which shows that their relationship with SalesPrice is statistically the most signficant. Hence we can conclude higher-quality houses, larger garages, and driveway conditions are important factors in determining house prices.\n",
    "\n",
    "-Least significant inputs are HalfBath, FullBath, and BsmtHalfBath as they have the highest pvalues of all. (Also greater than 0.05 therefore are not statistically significant)\n",
    "\n",
    "The OLS regression analysis's R-squared value is **0.803**, meaning that the independent variables in the model account for about **80.3%** of the variance in the dependent variable, which indicates a very strong model that effectively captures the majority of the variability in house prices based on the inputs provided.\n",
    "\n",
    "A high R-squared value indicates a good model fit, but it does not necessarily indicate causation. It is important to keep in mind that one should also consider the importance of individual predictors, the possibility of overfitting, and the influence of outliers. R-squared is a helpful metric for comparing different models, but for a thorough assessment of the model's efficacy, it should be used in conjunction with additional diagnostic tests and performance metrics like RMSE or MAE. Although more research is required to confirm the regression model's predictive ability, the R-squared value indicates that it is generally strong in capturing the variables affecting home sale prices."
   ]
  },
  {
   "cell_type": "code",
   "execution_count": 1238,
   "id": "e88dbefd-81ec-4fdf-a855-fba57da77dff",
   "metadata": {},
   "outputs": [],
   "source": [
    "filename = 'reg_model_cat.pkl'\n",
    "pickle.dump(model, open(filename, 'wb'))"
   ]
  },
  {
   "cell_type": "code",
   "execution_count": 1239,
   "id": "ef1303e8-7990-45e8-9655-5833ef841bc7",
   "metadata": {},
   "outputs": [],
   "source": [
    "loaded_model = pickle.load(open('reg_model_cat.pkl', 'rb'))"
   ]
  },
  {
   "cell_type": "code",
   "execution_count": 1240,
   "id": "68f76c92-6f3e-463a-abab-1e4ce5510925",
   "metadata": {},
   "outputs": [],
   "source": [
    "new_input = pd.DataFrame({\n",
    "    'Id':[1.0],\n",
    "    'const': [1.0],\n",
    "    'LotArea': [9000],\n",
    "    'OverallQual': [7],\n",
    "    'OverallCond': [5],\n",
    "    'YearBuilt': [2005],\n",
    "    'TotalBsmtSF': [1500],\n",
    "    '1stFlrSF': [1500],\n",
    "    '2ndFlrSF': [800],\n",
    "    'GrLivArea': [2300],\n",
    "    'BsmtFullBath': [1],\n",
    "    'BsmtHalfBath': [0],\n",
    "    'FullBath': [2],\n",
    "    'HalfBath': [1],\n",
    "    'BedroomAbvGr': [4],\n",
    "    'KitchenAbvGr': [1],\n",
    "    'Fireplaces': [1],\n",
    "    'GarageCars': [2],\n",
    "    'PavedDrive_N': [0],\n",
    "    'PavedDrive_P': [0],\n",
    "    'PavedDrive_Y': [1],\n",
    "    'SaleCondition_Abnorml': [0],\n",
    "    'SaleCondition_AdjLand': [0],\n",
    "    'SaleCondition_Alloca': [0],\n",
    "    'SaleCondition_Family': [0],\n",
    "    'SaleCondition_Normal': [1],\n",
    "    'SaleCondition_Partial': [0]\n",
    "})\n"
   ]
  },
  {
   "cell_type": "code",
   "execution_count": 1241,
   "id": "fd8d53bf-67ff-4872-a97c-9a678e845683",
   "metadata": {},
   "outputs": [
    {
     "data": {
      "text/plain": [
       "0    265731.502792\n",
       "dtype: float64"
      ]
     },
     "execution_count": 1241,
     "metadata": {},
     "output_type": "execute_result"
    }
   ],
   "source": [
    "model.predict(new_input)"
   ]
  },
  {
   "cell_type": "code",
   "execution_count": 1242,
   "id": "9bc70f91-80a1-49ad-949e-773f4f21ce27",
   "metadata": {},
   "outputs": [
    {
     "data": {
      "text/plain": [
       "0    265731.502792\n",
       "dtype: float64"
      ]
     },
     "execution_count": 1242,
     "metadata": {},
     "output_type": "execute_result"
    }
   ],
   "source": [
    "loaded_model.predict(new_input)"
   ]
  },
  {
   "cell_type": "markdown",
   "id": "a97c630d-ad51-4d16-9c35-5b4d337c32ca",
   "metadata": {},
   "source": [
    "#### Q5: Create a regression model to predict LotArea using all other inputs. Discuss the effectiveness of the model using R-squared value. Report 3 most significant inputs and 3 least significant inputs (based on p-value) and interpret the results. Create one new input of your choice of values and show the prediction of LotArea using the same model."
   ]
  },
  {
   "cell_type": "code",
   "execution_count": 1244,
   "id": "7b051253-4842-4052-ba8c-518afbe7bf7d",
   "metadata": {},
   "outputs": [
    {
     "name": "stdout",
     "output_type": "stream",
     "text": [
      "OverallQual              3.640036e-09\n",
      "Fireplaces               1.414619e-06\n",
      "SalePrice                1.658113e-05\n",
      "BsmtFullBath             1.179299e-03\n",
      "SaleCondition_Normal     1.693334e-02\n",
      "PavedDrive_N             1.743977e-02\n",
      "PavedDrive_P             1.863702e-02\n",
      "const                    2.177271e-02\n",
      "SaleCondition_Abnorml    2.702593e-02\n",
      "PavedDrive_Y             3.704033e-02\n",
      "SaleCondition_Partial    4.318055e-02\n",
      "YearBuilt                4.665131e-02\n",
      "BsmtHalfBath             5.465132e-02\n",
      "KitchenAbvGr             6.080187e-02\n",
      "SaleCondition_Family     6.099526e-02\n",
      "SaleCondition_Alloca     6.222309e-02\n",
      "TotalBsmtSF              7.114111e-02\n",
      "Id                       1.256890e-01\n",
      "BedroomAbvGr             1.485655e-01\n",
      "SaleCondition_AdjLand    1.793659e-01\n",
      "GarageCars               1.989974e-01\n",
      "1stFlrSF                 2.625607e-01\n",
      "HalfBath                 4.623271e-01\n",
      "2ndFlrSF                 4.893213e-01\n",
      "FullBath                 5.165026e-01\n",
      "GrLivArea                6.789667e-01\n",
      "OverallCond              7.621190e-01\n",
      "dtype: float64\n"
     ]
    },
    {
     "data": {
      "text/html": [
       "<table class=\"simpletable\">\n",
       "<caption>OLS Regression Results</caption>\n",
       "<tr>\n",
       "  <th>Dep. Variable:</th>         <td>LotArea</td>     <th>  R-squared:         </th> <td>   0.174</td> \n",
       "</tr>\n",
       "<tr>\n",
       "  <th>Model:</th>                   <td>OLS</td>       <th>  Adj. R-squared:    </th> <td>   0.160</td> \n",
       "</tr>\n",
       "<tr>\n",
       "  <th>Method:</th>             <td>Least Squares</td>  <th>  F-statistic:       </th> <td>   12.58</td> \n",
       "</tr>\n",
       "<tr>\n",
       "  <th>Date:</th>             <td>Mon, 21 Oct 2024</td> <th>  Prob (F-statistic):</th> <td>1.07e-44</td> \n",
       "</tr>\n",
       "<tr>\n",
       "  <th>Time:</th>                 <td>20:42:34</td>     <th>  Log-Likelihood:    </th> <td> -15376.</td> \n",
       "</tr>\n",
       "<tr>\n",
       "  <th>No. Observations:</th>      <td>  1460</td>      <th>  AIC:               </th> <td>3.080e+04</td>\n",
       "</tr>\n",
       "<tr>\n",
       "  <th>Df Residuals:</th>          <td>  1435</td>      <th>  BIC:               </th> <td>3.093e+04</td>\n",
       "</tr>\n",
       "<tr>\n",
       "  <th>Df Model:</th>              <td>    24</td>      <th>                     </th>     <td> </td>    \n",
       "</tr>\n",
       "<tr>\n",
       "  <th>Covariance Type:</th>      <td>nonrobust</td>    <th>                     </th>     <td> </td>    \n",
       "</tr>\n",
       "</table>\n",
       "<table class=\"simpletable\">\n",
       "<tr>\n",
       "            <td></td>               <th>coef</th>     <th>std err</th>      <th>t</th>      <th>P>|t|</th>  <th>[0.025</th>    <th>0.975]</th>  \n",
       "</tr>\n",
       "<tr>\n",
       "  <th>const</th>                 <td> 4.379e+04</td> <td> 1.91e+04</td> <td>    2.297</td> <td> 0.022</td> <td> 6390.304</td> <td> 8.12e+04</td>\n",
       "</tr>\n",
       "<tr>\n",
       "  <th>Id</th>                    <td>   -0.8762</td> <td>    0.572</td> <td>   -1.532</td> <td> 0.126</td> <td>   -1.998</td> <td>    0.246</td>\n",
       "</tr>\n",
       "<tr>\n",
       "  <th>OverallQual</th>           <td>-1904.1153</td> <td>  320.732</td> <td>   -5.937</td> <td> 0.000</td> <td>-2533.270</td> <td>-1274.961</td>\n",
       "</tr>\n",
       "<tr>\n",
       "  <th>OverallCond</th>           <td>  -75.6411</td> <td>  249.841</td> <td>   -0.303</td> <td> 0.762</td> <td> -565.734</td> <td>  414.452</td>\n",
       "</tr>\n",
       "<tr>\n",
       "  <th>YearBuilt</th>             <td>  -29.1068</td> <td>   14.618</td> <td>   -1.991</td> <td> 0.047</td> <td>  -57.782</td> <td>   -0.432</td>\n",
       "</tr>\n",
       "<tr>\n",
       "  <th>TotalBsmtSF</th>           <td>    1.9396</td> <td>    1.074</td> <td>    1.806</td> <td> 0.071</td> <td>   -0.167</td> <td>    4.046</td>\n",
       "</tr>\n",
       "<tr>\n",
       "  <th>1stFlrSF</th>              <td>    5.9165</td> <td>    5.279</td> <td>    1.121</td> <td> 0.263</td> <td>   -4.439</td> <td>   16.272</td>\n",
       "</tr>\n",
       "<tr>\n",
       "  <th>2ndFlrSF</th>              <td>    3.6006</td> <td>    5.206</td> <td>    0.692</td> <td> 0.489</td> <td>   -6.612</td> <td>   13.814</td>\n",
       "</tr>\n",
       "<tr>\n",
       "  <th>GrLivArea</th>             <td>   -2.1133</td> <td>    5.105</td> <td>   -0.414</td> <td> 0.679</td> <td>  -12.128</td> <td>    7.901</td>\n",
       "</tr>\n",
       "<tr>\n",
       "  <th>BsmtFullBath</th>          <td> 1724.6639</td> <td>  530.606</td> <td>    3.250</td> <td> 0.001</td> <td>  683.816</td> <td> 2765.511</td>\n",
       "</tr>\n",
       "<tr>\n",
       "  <th>BsmtHalfBath</th>          <td> 2005.9557</td> <td> 1043.025</td> <td>    1.923</td> <td> 0.055</td> <td>  -40.061</td> <td> 4051.972</td>\n",
       "</tr>\n",
       "<tr>\n",
       "  <th>FullBath</th>              <td>  472.4607</td> <td>  728.087</td> <td>    0.649</td> <td> 0.517</td> <td> -955.769</td> <td> 1900.690</td>\n",
       "</tr>\n",
       "<tr>\n",
       "  <th>HalfBath</th>              <td> -509.8549</td> <td>  693.475</td> <td>   -0.735</td> <td> 0.462</td> <td>-1870.188</td> <td>  850.478</td>\n",
       "</tr>\n",
       "<tr>\n",
       "  <th>BedroomAbvGr</th>          <td>  554.4413</td> <td>  383.592</td> <td>    1.445</td> <td> 0.149</td> <td> -198.019</td> <td> 1306.902</td>\n",
       "</tr>\n",
       "<tr>\n",
       "  <th>KitchenAbvGr</th>          <td>-2360.9487</td> <td> 1258.227</td> <td>   -1.876</td> <td> 0.061</td> <td>-4829.109</td> <td>  107.212</td>\n",
       "</tr>\n",
       "<tr>\n",
       "  <th>Fireplaces</th>            <td> 2199.0222</td> <td>  454.025</td> <td>    4.843</td> <td> 0.000</td> <td> 1308.398</td> <td> 3089.646</td>\n",
       "</tr>\n",
       "<tr>\n",
       "  <th>GarageCars</th>            <td>  583.9272</td> <td>  454.416</td> <td>    1.285</td> <td> 0.199</td> <td> -307.463</td> <td> 1475.318</td>\n",
       "</tr>\n",
       "<tr>\n",
       "  <th>SalePrice</th>             <td>    0.0292</td> <td>    0.007</td> <td>    4.321</td> <td> 0.000</td> <td>    0.016</td> <td>    0.042</td>\n",
       "</tr>\n",
       "<tr>\n",
       "  <th>PavedDrive_N</th>          <td> 1.492e+04</td> <td> 6268.244</td> <td>    2.380</td> <td> 0.017</td> <td> 2622.897</td> <td> 2.72e+04</td>\n",
       "</tr>\n",
       "<tr>\n",
       "  <th>PavedDrive_P</th>          <td> 1.514e+04</td> <td> 6427.202</td> <td>    2.355</td> <td> 0.019</td> <td> 2530.878</td> <td> 2.77e+04</td>\n",
       "</tr>\n",
       "<tr>\n",
       "  <th>PavedDrive_Y</th>          <td> 1.373e+04</td> <td> 6577.882</td> <td>    2.087</td> <td> 0.037</td> <td>  826.482</td> <td> 2.66e+04</td>\n",
       "</tr>\n",
       "<tr>\n",
       "  <th>SaleCondition_Abnorml</th> <td> 7440.4960</td> <td> 3361.547</td> <td>    2.213</td> <td> 0.027</td> <td>  846.422</td> <td>  1.4e+04</td>\n",
       "</tr>\n",
       "<tr>\n",
       "  <th>SaleCondition_AdjLand</th> <td> 6793.4633</td> <td> 5057.046</td> <td>    1.343</td> <td> 0.179</td> <td>-3126.532</td> <td> 1.67e+04</td>\n",
       "</tr>\n",
       "<tr>\n",
       "  <th>SaleCondition_Alloca</th>  <td> 7645.8046</td> <td> 4097.083</td> <td>    1.866</td> <td> 0.062</td> <td> -391.108</td> <td> 1.57e+04</td>\n",
       "</tr>\n",
       "<tr>\n",
       "  <th>SaleCondition_Family</th>  <td> 6890.6680</td> <td> 3675.017</td> <td>    1.875</td> <td> 0.061</td> <td> -318.313</td> <td> 1.41e+04</td>\n",
       "</tr>\n",
       "<tr>\n",
       "  <th>SaleCondition_Normal</th>  <td> 7924.9867</td> <td> 3314.585</td> <td>    2.391</td> <td> 0.017</td> <td> 1423.036</td> <td> 1.44e+04</td>\n",
       "</tr>\n",
       "<tr>\n",
       "  <th>SaleCondition_Partial</th> <td> 7091.7547</td> <td> 3504.258</td> <td>    2.024</td> <td> 0.043</td> <td>  217.736</td> <td>  1.4e+04</td>\n",
       "</tr>\n",
       "</table>\n",
       "<table class=\"simpletable\">\n",
       "<tr>\n",
       "  <th>Omnibus:</th>       <td>2609.844</td> <th>  Durbin-Watson:     </th>  <td>   2.039</td>  \n",
       "</tr>\n",
       "<tr>\n",
       "  <th>Prob(Omnibus):</th>  <td> 0.000</td>  <th>  Jarque-Bera (JB):  </th> <td>2779628.531</td>\n",
       "</tr>\n",
       "<tr>\n",
       "  <th>Skew:</th>           <td>12.352</td>  <th>  Prob(JB):          </th>  <td>    0.00</td>  \n",
       "</tr>\n",
       "<tr>\n",
       "  <th>Kurtosis:</th>       <td>215.326</td> <th>  Cond. No.          </th>  <td>1.09e+16</td>  \n",
       "</tr>\n",
       "</table><br/><br/>Notes:<br/>[1] Standard Errors assume that the covariance matrix of the errors is correctly specified.<br/>[2] The smallest eigenvalue is 4.77e-19. This might indicate that there are<br/>strong multicollinearity problems or that the design matrix is singular."
      ],
      "text/latex": [
       "\\begin{center}\n",
       "\\begin{tabular}{lclc}\n",
       "\\toprule\n",
       "\\textbf{Dep. Variable:}         &     LotArea      & \\textbf{  R-squared:         } &      0.174   \\\\\n",
       "\\textbf{Model:}                 &       OLS        & \\textbf{  Adj. R-squared:    } &      0.160   \\\\\n",
       "\\textbf{Method:}                &  Least Squares   & \\textbf{  F-statistic:       } &      12.58   \\\\\n",
       "\\textbf{Date:}                  & Mon, 21 Oct 2024 & \\textbf{  Prob (F-statistic):} &   1.07e-44   \\\\\n",
       "\\textbf{Time:}                  &     20:42:34     & \\textbf{  Log-Likelihood:    } &    -15376.   \\\\\n",
       "\\textbf{No. Observations:}      &        1460      & \\textbf{  AIC:               } &  3.080e+04   \\\\\n",
       "\\textbf{Df Residuals:}          &        1435      & \\textbf{  BIC:               } &  3.093e+04   \\\\\n",
       "\\textbf{Df Model:}              &          24      & \\textbf{                     } &              \\\\\n",
       "\\textbf{Covariance Type:}       &    nonrobust     & \\textbf{                     } &              \\\\\n",
       "\\bottomrule\n",
       "\\end{tabular}\n",
       "\\begin{tabular}{lcccccc}\n",
       "                                & \\textbf{coef} & \\textbf{std err} & \\textbf{t} & \\textbf{P$> |$t$|$} & \\textbf{[0.025} & \\textbf{0.975]}  \\\\\n",
       "\\midrule\n",
       "\\textbf{const}                  &    4.379e+04  &     1.91e+04     &     2.297  &         0.022        &     6390.304    &     8.12e+04     \\\\\n",
       "\\textbf{Id}                     &      -0.8762  &        0.572     &    -1.532  &         0.126        &       -1.998    &        0.246     \\\\\n",
       "\\textbf{OverallQual}            &   -1904.1153  &      320.732     &    -5.937  &         0.000        &    -2533.270    &    -1274.961     \\\\\n",
       "\\textbf{OverallCond}            &     -75.6411  &      249.841     &    -0.303  &         0.762        &     -565.734    &      414.452     \\\\\n",
       "\\textbf{YearBuilt}              &     -29.1068  &       14.618     &    -1.991  &         0.047        &      -57.782    &       -0.432     \\\\\n",
       "\\textbf{TotalBsmtSF}            &       1.9396  &        1.074     &     1.806  &         0.071        &       -0.167    &        4.046     \\\\\n",
       "\\textbf{1stFlrSF}               &       5.9165  &        5.279     &     1.121  &         0.263        &       -4.439    &       16.272     \\\\\n",
       "\\textbf{2ndFlrSF}               &       3.6006  &        5.206     &     0.692  &         0.489        &       -6.612    &       13.814     \\\\\n",
       "\\textbf{GrLivArea}              &      -2.1133  &        5.105     &    -0.414  &         0.679        &      -12.128    &        7.901     \\\\\n",
       "\\textbf{BsmtFullBath}           &    1724.6639  &      530.606     &     3.250  &         0.001        &      683.816    &     2765.511     \\\\\n",
       "\\textbf{BsmtHalfBath}           &    2005.9557  &     1043.025     &     1.923  &         0.055        &      -40.061    &     4051.972     \\\\\n",
       "\\textbf{FullBath}               &     472.4607  &      728.087     &     0.649  &         0.517        &     -955.769    &     1900.690     \\\\\n",
       "\\textbf{HalfBath}               &    -509.8549  &      693.475     &    -0.735  &         0.462        &    -1870.188    &      850.478     \\\\\n",
       "\\textbf{BedroomAbvGr}           &     554.4413  &      383.592     &     1.445  &         0.149        &     -198.019    &     1306.902     \\\\\n",
       "\\textbf{KitchenAbvGr}           &   -2360.9487  &     1258.227     &    -1.876  &         0.061        &    -4829.109    &      107.212     \\\\\n",
       "\\textbf{Fireplaces}             &    2199.0222  &      454.025     &     4.843  &         0.000        &     1308.398    &     3089.646     \\\\\n",
       "\\textbf{GarageCars}             &     583.9272  &      454.416     &     1.285  &         0.199        &     -307.463    &     1475.318     \\\\\n",
       "\\textbf{SalePrice}              &       0.0292  &        0.007     &     4.321  &         0.000        &        0.016    &        0.042     \\\\\n",
       "\\textbf{PavedDrive\\_N}          &    1.492e+04  &     6268.244     &     2.380  &         0.017        &     2622.897    &     2.72e+04     \\\\\n",
       "\\textbf{PavedDrive\\_P}          &    1.514e+04  &     6427.202     &     2.355  &         0.019        &     2530.878    &     2.77e+04     \\\\\n",
       "\\textbf{PavedDrive\\_Y}          &    1.373e+04  &     6577.882     &     2.087  &         0.037        &      826.482    &     2.66e+04     \\\\\n",
       "\\textbf{SaleCondition\\_Abnorml} &    7440.4960  &     3361.547     &     2.213  &         0.027        &      846.422    &      1.4e+04     \\\\\n",
       "\\textbf{SaleCondition\\_AdjLand} &    6793.4633  &     5057.046     &     1.343  &         0.179        &    -3126.532    &     1.67e+04     \\\\\n",
       "\\textbf{SaleCondition\\_Alloca}  &    7645.8046  &     4097.083     &     1.866  &         0.062        &     -391.108    &     1.57e+04     \\\\\n",
       "\\textbf{SaleCondition\\_Family}  &    6890.6680  &     3675.017     &     1.875  &         0.061        &     -318.313    &     1.41e+04     \\\\\n",
       "\\textbf{SaleCondition\\_Normal}  &    7924.9867  &     3314.585     &     2.391  &         0.017        &     1423.036    &     1.44e+04     \\\\\n",
       "\\textbf{SaleCondition\\_Partial} &    7091.7547  &     3504.258     &     2.024  &         0.043        &      217.736    &      1.4e+04     \\\\\n",
       "\\bottomrule\n",
       "\\end{tabular}\n",
       "\\begin{tabular}{lclc}\n",
       "\\textbf{Omnibus:}       & 2609.844 & \\textbf{  Durbin-Watson:     } &      2.039   \\\\\n",
       "\\textbf{Prob(Omnibus):} &   0.000  & \\textbf{  Jarque-Bera (JB):  } & 2779628.531  \\\\\n",
       "\\textbf{Skew:}          &  12.352  & \\textbf{  Prob(JB):          } &       0.00   \\\\\n",
       "\\textbf{Kurtosis:}      & 215.326  & \\textbf{  Cond. No.          } &   1.09e+16   \\\\\n",
       "\\bottomrule\n",
       "\\end{tabular}\n",
       "%\\caption{OLS Regression Results}\n",
       "\\end{center}\n",
       "\n",
       "Notes: \\newline\n",
       " [1] Standard Errors assume that the covariance matrix of the errors is correctly specified. \\newline\n",
       " [2] The smallest eigenvalue is 4.77e-19. This might indicate that there are \\newline\n",
       " strong multicollinearity problems or that the design matrix is singular."
      ],
      "text/plain": [
       "<class 'statsmodels.iolib.summary.Summary'>\n",
       "\"\"\"\n",
       "                            OLS Regression Results                            \n",
       "==============================================================================\n",
       "Dep. Variable:                LotArea   R-squared:                       0.174\n",
       "Model:                            OLS   Adj. R-squared:                  0.160\n",
       "Method:                 Least Squares   F-statistic:                     12.58\n",
       "Date:                Mon, 21 Oct 2024   Prob (F-statistic):           1.07e-44\n",
       "Time:                        20:42:34   Log-Likelihood:                -15376.\n",
       "No. Observations:                1460   AIC:                         3.080e+04\n",
       "Df Residuals:                    1435   BIC:                         3.093e+04\n",
       "Df Model:                          24                                         \n",
       "Covariance Type:            nonrobust                                         \n",
       "=========================================================================================\n",
       "                            coef    std err          t      P>|t|      [0.025      0.975]\n",
       "-----------------------------------------------------------------------------------------\n",
       "const                  4.379e+04   1.91e+04      2.297      0.022    6390.304    8.12e+04\n",
       "Id                       -0.8762      0.572     -1.532      0.126      -1.998       0.246\n",
       "OverallQual           -1904.1153    320.732     -5.937      0.000   -2533.270   -1274.961\n",
       "OverallCond             -75.6411    249.841     -0.303      0.762    -565.734     414.452\n",
       "YearBuilt               -29.1068     14.618     -1.991      0.047     -57.782      -0.432\n",
       "TotalBsmtSF               1.9396      1.074      1.806      0.071      -0.167       4.046\n",
       "1stFlrSF                  5.9165      5.279      1.121      0.263      -4.439      16.272\n",
       "2ndFlrSF                  3.6006      5.206      0.692      0.489      -6.612      13.814\n",
       "GrLivArea                -2.1133      5.105     -0.414      0.679     -12.128       7.901\n",
       "BsmtFullBath           1724.6639    530.606      3.250      0.001     683.816    2765.511\n",
       "BsmtHalfBath           2005.9557   1043.025      1.923      0.055     -40.061    4051.972\n",
       "FullBath                472.4607    728.087      0.649      0.517    -955.769    1900.690\n",
       "HalfBath               -509.8549    693.475     -0.735      0.462   -1870.188     850.478\n",
       "BedroomAbvGr            554.4413    383.592      1.445      0.149    -198.019    1306.902\n",
       "KitchenAbvGr          -2360.9487   1258.227     -1.876      0.061   -4829.109     107.212\n",
       "Fireplaces             2199.0222    454.025      4.843      0.000    1308.398    3089.646\n",
       "GarageCars              583.9272    454.416      1.285      0.199    -307.463    1475.318\n",
       "SalePrice                 0.0292      0.007      4.321      0.000       0.016       0.042\n",
       "PavedDrive_N           1.492e+04   6268.244      2.380      0.017    2622.897    2.72e+04\n",
       "PavedDrive_P           1.514e+04   6427.202      2.355      0.019    2530.878    2.77e+04\n",
       "PavedDrive_Y           1.373e+04   6577.882      2.087      0.037     826.482    2.66e+04\n",
       "SaleCondition_Abnorml  7440.4960   3361.547      2.213      0.027     846.422     1.4e+04\n",
       "SaleCondition_AdjLand  6793.4633   5057.046      1.343      0.179   -3126.532    1.67e+04\n",
       "SaleCondition_Alloca   7645.8046   4097.083      1.866      0.062    -391.108    1.57e+04\n",
       "SaleCondition_Family   6890.6680   3675.017      1.875      0.061    -318.313    1.41e+04\n",
       "SaleCondition_Normal   7924.9867   3314.585      2.391      0.017    1423.036    1.44e+04\n",
       "SaleCondition_Partial  7091.7547   3504.258      2.024      0.043     217.736     1.4e+04\n",
       "==============================================================================\n",
       "Omnibus:                     2609.844   Durbin-Watson:                   2.039\n",
       "Prob(Omnibus):                  0.000   Jarque-Bera (JB):          2779628.531\n",
       "Skew:                          12.352   Prob(JB):                         0.00\n",
       "Kurtosis:                     215.326   Cond. No.                     1.09e+16\n",
       "==============================================================================\n",
       "\n",
       "Notes:\n",
       "[1] Standard Errors assume that the covariance matrix of the errors is correctly specified.\n",
       "[2] The smallest eigenvalue is 4.77e-19. This might indicate that there are\n",
       "strong multicollinearity problems or that the design matrix is singular.\n",
       "\"\"\""
      ]
     },
     "execution_count": 1244,
     "metadata": {},
     "output_type": "execute_result"
    }
   ],
   "source": [
    "X = df_dummies.drop(['LotArea'],axis=1)\n",
    "Y = df_dummies['LotArea']\n",
    "X = sm.add_constant(X)\n",
    "model = sm.OLS(Y,X).fit()\n",
    "sorted_pvalues = model.pvalues.sort_values()\n",
    "print(sorted_pvalues)\n",
    "model.summary()"
   ]
  },
  {
   "cell_type": "code",
   "execution_count": 1245,
   "id": "d08ee2a2-0f8d-4d47-a833-31019aedf830",
   "metadata": {},
   "outputs": [],
   "source": [
    "filename = 'reg_model_cat2.pkl'\n",
    "pickle.dump(model, open(filename, 'wb'))"
   ]
  },
  {
   "cell_type": "code",
   "execution_count": 1246,
   "id": "385cd479-5300-471c-b77a-3780a1e54ade",
   "metadata": {},
   "outputs": [],
   "source": [
    "loaded_model2 = pickle.load(open('reg_model_cat2.pkl', 'rb'))"
   ]
  },
  {
   "cell_type": "code",
   "execution_count": 1247,
   "id": "efa3896b-209e-4f73-b0bf-97e17fdb4795",
   "metadata": {},
   "outputs": [
    {
     "data": {
      "text/plain": [
       "0    1.631114e+09\n",
       "dtype: float64"
      ]
     },
     "execution_count": 1247,
     "metadata": {},
     "output_type": "execute_result"
    }
   ],
   "source": [
    "df_new = pd.DataFrame({\n",
    "    'Id': [1.0],\n",
    "    'const': [1.0],\n",
    "    'OverallQual': [7],\n",
    "    'OverallCond': [6],\n",
    "    'YearBuilt': [2015],\n",
    "    'TotalBsmtSF': [1400],\n",
    "    '1stFlrSF': [1600],\n",
    "    '2ndFlrSF': [900],\n",
    "    'GrLivArea': [2200],\n",
    "    'BsmtFullBath': [2],\n",
    "    'BsmtHalfBath': [1],\n",
    "    'FullBath': [2],\n",
    "    'HalfBath': [1],\n",
    "    'BedroomAbvGr': [4],\n",
    "    'KitchenAbvGr': [2],\n",
    "    'Fireplaces': [1],\n",
    "    'GarageCars': [1],\n",
    "    'PavedDrive_N': [0],\n",
    "    'PavedDrive_P': [0],\n",
    "    'PavedDrive_Y': [1],\n",
    "    'SaleCondition_Abnorml': [0],\n",
    "    'SaleCondition_AdjLand': [1],\n",
    "    'SaleCondition_Alloca': [0],\n",
    "    'SaleCondition_Family': [0],\n",
    "    'SaleCondition_Normal': [0],\n",
    "    'SaleCondition_Partial': [0],\n",
    "    'SalePrice': [230000]\n",
    "})\n",
    "\n",
    "model.predict(df_new)"
   ]
  },
  {
   "cell_type": "code",
   "execution_count": 1248,
   "id": "3c5f452a-93f5-4c78-9e35-5cdc31b66edf",
   "metadata": {},
   "outputs": [
    {
     "data": {
      "text/plain": [
       "0    1.631114e+09\n",
       "dtype: float64"
      ]
     },
     "execution_count": 1248,
     "metadata": {},
     "output_type": "execute_result"
    }
   ],
   "source": [
    "loaded_model2.predict(df_new)"
   ]
  },
  {
   "cell_type": "markdown",
   "id": "0ff69e27-f1de-41db-a752-138e548f906c",
   "metadata": {},
   "source": [
    "Discussion: \n",
    "\n",
    "-Since OverallQual, Fireplaces, and SalePrice have the lowest p-values and all have statistically significant relationships with LotPrice, they are the most significant inputs.\n",
    "\n",
    "-Because OverallCond, GrLivArea, and FullBath all have very high pvalues and hence no statistically significant effect on LotArea, these are the least significant inputs.\n",
    "\n",
    "-Only 17.2% of the variability in the dependent variable, LotArea, can be explained by the regression model, according to its R-squared value of 0.172. Since the independent variables in the model cannot account for the majority of the variability in LotArea, this suggests that the model has a low predictive potential.\n",
    "\n"
   ]
  },
  {
   "cell_type": "markdown",
   "id": "70ab8d94-0652-4b37-b481-d19b20c52271",
   "metadata": {},
   "source": [
    "#### Q6: From Question 4, drop/remove all the columns which are not signification (p-value >0.05) and create a new model to predict SalePrice. Discuss the performance of the model using few inputs as compared to using all inputs in (Question 4). Which model do you prefer and why?\n",
    "\n",
    "    a. The idea is to create a simple generalized model with fewer inputs which are important for prediction and getting the similar performance. For this concept, please research and study “Regularization in Regression”"
   ]
  },
  {
   "cell_type": "code",
   "execution_count": 1251,
   "id": "8fd2085e-a539-4749-910d-05001a791889",
   "metadata": {},
   "outputs": [
    {
     "name": "stdout",
     "output_type": "stream",
     "text": [
      "OverallQual              7.307934e-96\n",
      "GarageCars               6.219807e-23\n",
      "TotalBsmtSF              5.172977e-20\n",
      "Fireplaces               1.639144e-14\n",
      "BedroomAbvGr             1.744834e-12\n",
      "LotArea                  1.265710e-09\n",
      "SaleCondition_Family     4.735085e-08\n",
      "BsmtFullBath             4.855862e-08\n",
      "SaleCondition_Abnorml    8.074590e-07\n",
      "PavedDrive_P             1.431781e-06\n",
      "OverallCond              2.416110e-06\n",
      "SaleCondition_Normal     3.804394e-06\n",
      "const                    4.238501e-06\n",
      "PavedDrive_Y             1.095392e-05\n",
      "PavedDrive_N             1.206090e-05\n",
      "YearBuilt                4.477226e-04\n",
      "SaleCondition_Alloca     1.384682e-03\n",
      "SaleCondition_Partial    2.042982e-02\n",
      "SaleCondition_AdjLand    2.616560e-02\n",
      "KitchenAbvGr             3.742905e-01\n",
      "dtype: float64\n",
      "                            OLS Regression Results                            \n",
      "==============================================================================\n",
      "Dep. Variable:              SalePrice   R-squared:                       0.753\n",
      "Model:                            OLS   Adj. R-squared:                  0.750\n",
      "Method:                 Least Squares   F-statistic:                     258.4\n",
      "Date:                Mon, 21 Oct 2024   Prob (F-statistic):               0.00\n",
      "Time:                        20:42:34   Log-Likelihood:                -17524.\n",
      "No. Observations:                1460   AIC:                         3.508e+04\n",
      "Df Residuals:                    1442   BIC:                         3.518e+04\n",
      "Df Model:                          17                                         \n",
      "Covariance Type:            nonrobust                                         \n",
      "=========================================================================================\n",
      "                            coef    std err          t      P>|t|      [0.025      0.975]\n",
      "-----------------------------------------------------------------------------------------\n",
      "const                 -3.244e+05   7.03e+04     -4.617      0.000   -4.62e+05   -1.87e+05\n",
      "LotArea                   0.6879      0.113      6.112      0.000       0.467       0.909\n",
      "OverallQual             2.63e+04   1172.051     22.435      0.000     2.4e+04    2.86e+04\n",
      "OverallCond            5003.4352   1056.883      4.734      0.000    2930.242    7076.628\n",
      "YearBuilt               188.4952     53.575      3.518      0.000      83.402     293.588\n",
      "TotalBsmtSF              29.0364      3.123      9.297      0.000      22.910      35.163\n",
      "BsmtFullBath           1.207e+04   2200.508      5.486      0.000    7754.908    1.64e+04\n",
      "BedroomAbvGr           9735.2845   1368.080      7.116      0.000    7051.645    1.24e+04\n",
      "KitchenAbvGr          -4621.8269   5200.420     -0.889      0.374   -1.48e+04    5579.372\n",
      "Fireplaces             1.453e+04   1873.409      7.757      0.000    1.09e+04    1.82e+04\n",
      "GarageCars             1.898e+04   1892.292     10.030      0.000    1.53e+04    2.27e+04\n",
      "PavedDrive_N          -1.014e+05   2.31e+04     -4.392      0.000   -1.47e+05   -5.61e+04\n",
      "PavedDrive_P          -1.148e+05   2.37e+04     -4.841      0.000   -1.61e+05   -6.83e+04\n",
      "PavedDrive_Y          -1.081e+05   2.45e+04     -4.413      0.000   -1.56e+05   -6.01e+04\n",
      "SaleCondition_Abnorml -6.118e+04   1.23e+04     -4.955      0.000   -8.54e+04    -3.7e+04\n",
      "SaleCondition_AdjLand -4.677e+04    2.1e+04     -2.226      0.026    -8.8e+04   -5555.581\n",
      "SaleCondition_Alloca  -5.117e+04    1.6e+04     -3.204      0.001   -8.25e+04   -1.98e+04\n",
      "SaleCondition_Family  -7.729e+04   1.41e+04     -5.490      0.000   -1.05e+05   -4.97e+04\n",
      "SaleCondition_Normal  -5.708e+04   1.23e+04     -4.640      0.000   -8.12e+04   -3.29e+04\n",
      "SaleCondition_Partial -3.089e+04   1.33e+04     -2.321      0.020    -5.7e+04   -4781.637\n",
      "==============================================================================\n",
      "Omnibus:                      634.582   Durbin-Watson:                   1.965\n",
      "Prob(Omnibus):                  0.000   Jarque-Bera (JB):            28283.258\n",
      "Skew:                           1.287   Prob(JB):                         0.00\n",
      "Kurtosis:                      24.408   Cond. No.                     8.95e+19\n",
      "==============================================================================\n",
      "\n",
      "Notes:\n",
      "[1] Standard Errors assume that the covariance matrix of the errors is correctly specified.\n",
      "[2] The smallest eigenvalue is 3.88e-29. This might indicate that there are\n",
      "strong multicollinearity problems or that the design matrix is singular.\n"
     ]
    }
   ],
   "source": [
    "significant_columns = p_values[p_values < 0.05]\n",
    "significant_columns = significant_columns.drop('const') \n",
    "\n",
    "significant_df = one_hot[significant_columns.index]  \n",
    "significant_df.head()  \n",
    "\n",
    "X = significant_df\n",
    "Y = one_hot['SalePrice']  \n",
    "\n",
    "\n",
    "X = sm.add_constant(X)\n",
    "\n",
    "model = sm.OLS(Y, X).fit()\n",
    "\n",
    "\n",
    "sorted_pvalues = model.pvalues.sort_values()\n",
    "print(sorted_pvalues)\n",
    "\n",
    "model_summary = model.summary()\n",
    "print(model_summary)\n"
   ]
  },
  {
   "cell_type": "markdown",
   "id": "35ceda78-c493-4517-8588-6451b5d7805f",
   "metadata": {},
   "source": [
    "Discussion:\n",
    "\n",
    "A high R-squared value indicates a good model fit, but it does not necessarily indicate causation. It is important to keep in mind that one should also consider the importance of individual predictors, the possibility of overfitting, and the influence of outliers. R-squared is a helpful metric for comparing different models, but for a thorough assessment of the model's efficacy, it should be used in conjunction with additional diagnostic tests and performance metrics like RMSE or MAE. Although more research is required to confirm the regression model's predictive ability, the R-squared value indicates that it is generally strong in capturing the variables affecting home sale prices.\n",
    "\n",
    "Although a high \\( R^2 \\) does not necessarily indicate the best fit, it is vital to understand that this range of \\( R^2 \\) indicates a good model fit. Additional diagnostics, such as residual analysis and checking for multicollinearity among predictors, are required to assure the robustness of the model. In general, the model's strong \\( R^2 \\) and adjusted \\( R^2 \\) values indicate that it explains home price variance well, offering useful information to those involved in real estate decision-making."
   ]
  },
  {
   "cell_type": "markdown",
   "id": "7b49b46c-4b6d-43e3-b216-f496702e6232",
   "metadata": {},
   "source": [
    "#### Q7: Using the model in Question 6, create 3 new data records and predict their SalePrice. Discuss if the predicted output looks good and make sense."
   ]
  },
  {
   "cell_type": "code",
   "execution_count": 1254,
   "id": "7306619c-24da-4139-9d9c-357bd167235e",
   "metadata": {},
   "outputs": [],
   "source": [
    "new_data = pd.DataFrame({\n",
    "    'const': [1.0, 1.0, 1.0],\n",
    "    'LotArea': [4800, 6200, 7500],\n",
    "    'OverallQual': [6, 7, 9],\n",
    "    'OverallCond': [4, 5, 6],\n",
    "    'YearBuilt': [1999, 2003, 2005],\n",
    "    'TotalBsmtSF': [850, 950, 1100],\n",
    "    'BsmtFullBath': [1, 2, 1],\n",
    "    'BedroomAbvGr': [2, 3, 4],\n",
    "    'KitchenAbvGr': [1, 2, 1],\n",
    "    'Fireplaces': [0, 1, 1],\n",
    "    'GarageCars': [1, 2, 2],\n",
    "    'PavedDrive_N': [1, 0, 0],\n",
    "    'PavedDrive_P': [0, 1, 1],\n",
    "    'PavedDrive_Y': [0, 0, 0],\n",
    "    'SaleCondition_Abnorml': [0, 1, 0],\n",
    "    'SaleCondition_AdjLand': [1, 0, 0],\n",
    "    'SaleCondition_Alloca': [0, 1, 0],\n",
    "    'SaleCondition_Family': [0, 0, 0],\n",
    "    'SaleCondition_Normal': [1, 0, 1],\n",
    "    'SaleCondition_Partial': [0, 0, 0],\n",
    "})\n"
   ]
  },
  {
   "cell_type": "code",
   "execution_count": 1255,
   "id": "2b379530-bbef-479b-a3d6-4823bedbcb23",
   "metadata": {},
   "outputs": [],
   "source": [
    "filename = 'reg_model_3.pkl'\n",
    "pickle.dump(model, open(filename, 'wb'))"
   ]
  },
  {
   "cell_type": "code",
   "execution_count": 1256,
   "id": "fc134e91-c268-466d-aeec-dc7c6c1a9032",
   "metadata": {},
   "outputs": [],
   "source": [
    "loaded_model = pickle.load(open('reg_model_3.pkl', 'rb'))"
   ]
  },
  {
   "cell_type": "code",
   "execution_count": 1257,
   "id": "91fb6000-a68e-4921-8acd-5ebeee2b326d",
   "metadata": {},
   "outputs": [
    {
     "data": {
      "text/plain": [
       "0     98832.049447\n",
       "1    163535.906226\n",
       "2    284309.451498\n",
       "dtype: float64"
      ]
     },
     "execution_count": 1257,
     "metadata": {},
     "output_type": "execute_result"
    }
   ],
   "source": [
    "model.predict(new_data)"
   ]
  },
  {
   "cell_type": "code",
   "execution_count": 1258,
   "id": "0d1cfd58-a66e-4dc9-961f-dcadef13a4d2",
   "metadata": {},
   "outputs": [
    {
     "data": {
      "text/plain": [
       "0     98832.049447\n",
       "1    163535.906226\n",
       "2    284309.451498\n",
       "dtype: float64"
      ]
     },
     "execution_count": 1258,
     "metadata": {},
     "output_type": "execute_result"
    }
   ],
   "source": [
    "loaded_model.predict(new_data)"
   ]
  },
  {
   "cell_type": "markdown",
   "id": "687a15e8-6015-462f-8849-99c42f038c2d",
   "metadata": {},
   "source": [
    "Discussion: Yes, the predictions make sense as they reflect a reasonable range for property values based on the features provided, the most significant inputs --OverallQual, GarageCars-- surely make an impact.\n"
   ]
  }
 ],
 "metadata": {
  "kernelspec": {
   "display_name": "Python 3 (ipykernel)",
   "language": "python",
   "name": "python3"
  },
  "language_info": {
   "codemirror_mode": {
    "name": "ipython",
    "version": 3
   },
   "file_extension": ".py",
   "mimetype": "text/x-python",
   "name": "python",
   "nbconvert_exporter": "python",
   "pygments_lexer": "ipython3",
   "version": "3.12.4"
  }
 },
 "nbformat": 4,
 "nbformat_minor": 5
}
